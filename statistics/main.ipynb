{
 "cells": [
  {
   "cell_type": "markdown",
   "metadata": {},
   "source": [
    "# Subjective evaluation of active noise cancellation in headphones"
   ]
  },
  {
   "cell_type": "code",
   "execution_count": null,
   "metadata": {},
   "outputs": [],
   "source": [
    "import seaborn as sns\n",
    "import matplotlib.pyplot as plt\n",
    "import pandas as pnd\n",
    "from scipy.stats import chi2_contingency\n",
    "import functions as fn"
   ]
  },
  {
   "cell_type": "markdown",
   "metadata": {},
   "source": [
    "## Dummy Data"
   ]
  },
  {
   "cell_type": "code",
   "execution_count": null,
   "metadata": {},
   "outputs": [],
   "source": [
    "# Definiciones generales\n",
    "\n",
    "samples_quantity = 30\n",
    "measurements_per_sample = 4\n",
    "\n",
    "# X1 = Estado de ANC (apagado o encendido)\n",
    "\n",
    "anc_status = fn.anc_status(samples_quantity, measurements_per_sample)\n",
    "\n",
    "# X2 = Ruido de fondo medido (65 dB o 85 dB, aproximadamente)\n",
    "\n",
    "background_noise_mean = 64\n",
    "background_noise_deviation = 2\n",
    "background_noise_max = background_noise_mean + 3 * background_noise_deviation\n",
    "delta_spl = 15\n",
    "generated_noise_spl = background_noise_max + delta_spl\n",
    "\n",
    "measured_noise = fn.measured_noise(background_noise_mean, background_noise_deviation, delta_spl, generated_noise_spl, samples_quantity, measurements_per_sample)\n",
    "\n",
    "# Y1 = Nivel de ruido percibido\n",
    "\n",
    "perceived_noise = fn.perceived_noise(samples_quantity, measurements_per_sample, anc_status, measured_noise, background_noise_max)\n",
    "\n",
    "# Y2 = Calidad de sonido percibida\n",
    "\n",
    "perceived_quality = fn.perceived_quality(samples_quantity, measurements_per_sample, anc_status)"
   ]
  },
  {
   "cell_type": "markdown",
   "metadata": {},
   "source": [
    "## Validation"
   ]
  },
  {
   "cell_type": "code",
   "execution_count": null,
   "metadata": {},
   "outputs": [],
   "source": [
    "# Generar lista de outliers\n",
    "\n",
    "outliers = fn.list_outliers(anc_status, measured_noise, perceived_noise, background_noise_max, samples_quantity, measurements_per_sample)\n",
    "\n",
    "for i in range(len(outliers)):\n",
    "    print(f\"Ruido de fondo percibido por sujeto {outliers[i] + 1} en cada caso:\")\n",
    "    print(f\"[C1 C2 C3 C4] = {perceived_noise[outliers[i]]}\\n\")\n",
    "\n",
    "# Sacar outliers de Y1\n",
    "\n",
    "perceived_noise_valid = fn.remove_outliers(outliers, perceived_noise)\n",
    "print(f\"Cantidad de muestras válidas de Y1: {len(perceived_noise_valid)} de {len(perceived_noise)}\")\n",
    "\n",
    "# Sacar outliers de Y2\n",
    "\n",
    "perceived_quality_valid = fn.remove_outliers(outliers, perceived_quality)\n",
    "print(f\"Cantidad de muestras válidas de Y2: {len(perceived_quality_valid)} de {len(perceived_quality)}\")\n",
    "\n",
    "# Sacar outliers en variables independientes para igualar tamaño de vectores\n",
    "\n",
    "anc_status_valid = fn.remove_outliers(outliers, anc_status)\n",
    "measured_noise_valid = fn.remove_outliers(outliers, measured_noise)"
   ]
  },
  {
   "cell_type": "markdown",
   "metadata": {},
   "source": [
    "## Association"
   ]
  },
  {
   "cell_type": "markdown",
   "metadata": {},
   "source": [
    "### Perceived Noise Level vs. ANC Status"
   ]
  },
  {
   "cell_type": "code",
   "execution_count": null,
   "metadata": {},
   "outputs": [],
   "source": [
    "# Ravel data\n",
    "\n",
    "anc_status_meaning, perceived_noise_meaning = fn.ravel_noise(anc_status_valid, perceived_noise_valid, measured_noise_valid, background_noise_max)\n",
    "\n",
    "data = {\n",
    "    'Estado ANC': anc_status_meaning,\n",
    "    'Ruido percibido': perceived_noise_meaning\n",
    "}\n",
    "\n",
    "# Cross table\n",
    "\n",
    "df = pnd.DataFrame(data)\n",
    "cross_tab = pnd.crosstab(df['Estado ANC'], df['Ruido percibido'])\n",
    "\n",
    "# Print table\n",
    "\n",
    "cross_tab_aux_1 = pnd.crosstab(df['Estado ANC'], df['Ruido percibido'], margins=True, margins_name=\"Total\")\n",
    "cross_tab_aux_2  = pnd.crosstab(df['Estado ANC'], df['Ruido percibido'], normalize=True, margins=True, margins_name=\"Total\")*100\n",
    "combined_crosstab = cross_tab_aux_1.astype(str) + \" (\" + cross_tab_aux_2.round(2).astype(str) + \"%)\"\n",
    "print(combined_crosstab)\n",
    "\n",
    "# Bar graph\n",
    "\n",
    "xtabgraph = cross_tab.plot(kind='bar')\n",
    "plt.title('Nivel de ruido percibido')\n",
    "plt.xlabel('Estado de ANC')\n",
    "xtabgraph.set_xticklabels(cross_tab.index, rotation=0)\n",
    "plt.ylabel('Frecuencia')\n",
    "plt.show()\n",
    "\n",
    "# Chi-square test\n",
    "\n",
    "chi2, p, _, _ = chi2_contingency(cross_tab)\n",
    "print(\"\\nChi-Square Test:\\n\")\n",
    "print(f\"Chi2 value: {chi2:.3f}\")\n",
    "print(f\"P-value: {p:.3f}\")"
   ]
  },
  {
   "cell_type": "markdown",
   "metadata": {},
   "source": [
    "### Perceived Sound Quality vs. ANC Status"
   ]
  },
  {
   "cell_type": "code",
   "execution_count": null,
   "metadata": {},
   "outputs": [],
   "source": [
    "# Ravel data\n",
    "\n",
    "anc_status_meaning, perceived_noise_meaning = fn.ravel_quality(anc_status_valid, perceived_quality_valid, measured_noise_valid, background_noise_max)\n",
    "\n",
    "data = {\n",
    "    'Estado ANC': anc_status_meaning,\n",
    "    'Calidad percibida': perceived_noise_meaning\n",
    "}\n",
    "\n",
    "# Cross table\n",
    "\n",
    "df = pnd.DataFrame(data)\n",
    "cross_tab = pnd.crosstab(df['Estado ANC'], df['Calidad percibida'])\n",
    "\n",
    "# Print table\n",
    "\n",
    "cross_tab_aux_1 = pnd.crosstab(df['Estado ANC'], df['Calidad percibida'], margins=True, margins_name=\"Total\")\n",
    "cross_tab_aux_2  = pnd.crosstab(df['Estado ANC'], df['Calidad percibida'], normalize=True, margins=True, margins_name=\"Total\")*100\n",
    "combined_crosstab = cross_tab_aux_1.astype(str) + \" (\" + cross_tab_aux_2.round(2).astype(str) + \"%)\"\n",
    "print(combined_crosstab)\n",
    "\n",
    "# Bar graph\n",
    "\n",
    "xtabgraph = cross_tab.plot(kind='bar')\n",
    "plt.title('Calidad de sonido percibida')\n",
    "plt.xlabel('Estado de ANC')\n",
    "xtabgraph.set_xticklabels(cross_tab.index, rotation=0)\n",
    "plt.ylabel('Frecuencia')\n",
    "plt.show()\n",
    "\n",
    "# Chi-square test\n",
    "\n",
    "chi2, p, _, _ = chi2_contingency(cross_tab)\n",
    "print(\"\\nChi-Square Test:\")\n",
    "print(f\"Chi2 value: {chi2:.3f}\")\n",
    "print(f\"P-value: {p:.3f}\")"
   ]
  }
 ],
 "metadata": {
  "kernelspec": {
   "display_name": "Python 3",
   "language": "python",
   "name": "python3"
  },
  "language_info": {
   "codemirror_mode": {
    "name": "ipython",
    "version": 3
   },
   "file_extension": ".py",
   "mimetype": "text/x-python",
   "name": "python",
   "nbconvert_exporter": "python",
   "pygments_lexer": "ipython3",
   "version": "3.12.3"
  }
 },
 "nbformat": 4,
 "nbformat_minor": 2
}
